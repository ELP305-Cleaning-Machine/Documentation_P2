{
 "cells": [
  {
   "cell_type": "code",
   "execution_count": 33,
   "metadata": {},
   "outputs": [],
   "source": [
    "import pandas as pd\n",
    "import sys"
   ]
  },
  {
   "cell_type": "code",
   "execution_count": 34,
   "metadata": {},
   "outputs": [],
   "source": [
    "ocNames = [\"2021MT10697\", \"2021EE10137\"]\n",
    "acNames = [\"2021MT10254\", \"2021EE10809\",\"2021EE10159\"]\n",
    "subtribeNames = [\"Documentation\", \"APD\", \"HND\"]\n"
   ]
  },
  {
   "cell_type": "code",
   "execution_count": 35,
   "metadata": {},
   "outputs": [],
   "source": [
    "class Student:\n",
    "    def __init__(self, name, entry_number, vertical , IF, link):\n",
    "        self._name_ = self.capitalize_name(name)\n",
    "        self._entry_number_ = entry_number.upper()\n",
    "        self._vertical_ = vertical.split('(', 1)[0].strip()    \n",
    "        self._email_ = self._get_email_(entry_number)\n",
    "        self._IF_  = IF\n",
    "        self._link_ = link\n",
    "    \n",
    "    def capitalize_name(self , full_name):\n",
    "        words = full_name.split()\n",
    "        capitalized_words = [word.capitalize() for word in words]\n",
    "        capitalized_name = ' '.join(capitalized_words)\n",
    "        return capitalized_name\n",
    "    \n",
    "    def _get_email_(self , entry_num):\n",
    "        dict = {'EE': 'ee', 'MT':'maths', 'CS':'cse'}\n",
    "        email = entry_num[4 : 7] + entry_num[2 : 4] + entry_num[7 : 11] + '@'+dict[entry_num[4 : 6]]+'.iitd.ac.in'\n",
    "        return email.lower()\n",
    "    \n",
    "    def latex_row(self, flag):\n",
    "        if self._entry_number_ in acNames and flag:\n",
    "            return '\\href{'+f'{self._link_}'+'}{\\\\textbf{'+f'{self._name_}'+'} }'+f' & {self._entry_number_} & '+ '\\href{'+f'mailto:{self._email_}'+'}{'+f'{self._email_}'+'}'+f' & {self._IF_}\\\\\\\\ \\n\\hline \\n'\n",
    "        return '\\href{'+f'{self._link_}'+'}{'+f'{self._name_}'+'}'+f' & {self._entry_number_} & '+ '\\href{'+f'mailto:{self._email_}'+'}{'+f'{self._email_}'+'}'+f' & {self._IF_}\\\\\\\\ \\n\\hline \\n'\n"
   ]
  },
  {
   "cell_type": "code",
   "execution_count": 36,
   "metadata": {},
   "outputs": [],
   "source": [
    "sheetAdd = './members_IF.xlsx'\n",
    "textAdd = '../Files/Chapters/Introduction/Members.tex'\n",
    "df = pd.read_excel(sheetAdd)\n",
    "file = open(textAdd, 'w')"
   ]
  },
  {
   "cell_type": "code",
   "execution_count": 37,
   "metadata": {},
   "outputs": [],
   "source": [
    "  \n",
    "def makeTable1():\n",
    "    file.write(\"\"\"\\section{Overall Coordinators}\n",
    "    \\\\begin{center}\n",
    "\t    \\\\label{table:oc}\n",
    "\t    \\\\begin{longtable}{ | n | e | E | c| }\n",
    "\t\t    \\\\hline\n",
    "\t\t    \\\\textbf{Name}                                                                & \\\\textbf{Entry Number} & \\\\textbf{Email ID}                                                    & \\\\textbf{IF} \\\\\\\\\n",
    "\t\t    \\\\hline \\\\hline\"\"\")\n",
    "    \n",
    "    students = []\n",
    "    for index, row in df.iterrows():\n",
    "        student = Student(name = row['Name'] , entry_number = row['Entry Number'], vertical = row['Vertical'] , IF = row['IF'], link = row['Link'])\n",
    "        if row['Entry Number'] in ocNames:\n",
    "            students.append(student)\n",
    "    \n",
    "    for student in students:\n",
    "        file.write(student.latex_row(1))\n",
    "    \n",
    "    file.write(\"\"\"\n",
    "\t\t    \\\\caption{Overall Coordinators}\n",
    "\t    \\\\end{longtable}\n",
    "    \\\\end{center}\n",
    "    \"\"\")\n",
    "    file.write('\\section[Subtribes]{Subtribes\\\\footnote{\\\\textbf{\\\\textit{Activity Coordinator}} written in bold}}')\n"
   ]
  },
  {
   "cell_type": "code",
   "execution_count": 38,
   "metadata": {},
   "outputs": [],
   "source": [
    "\n",
    "def makeTable2(subtribeName, label):\n",
    "    \n",
    "    file.write(\"\"\"\n",
    "    \\subsection{\"\"\" + subtribeName + \"\"\"}\n",
    "    \\\\begin{center}\n",
    "    \\\\label{table:\"\"\"+label+\"\"\"1}\n",
    "    \\\\begin{longtable}{| n | e | E | c| }\n",
    "        \\\\hline\n",
    "        \\\\textbf{Name}                                                                                                      & \\\\textbf{Entry Number} & \\\\textbf{Email ID}                                                    & \\\\textbf{IF} \\\\\\\\\n",
    "        \\\\hline \\\\hline\"\"\")\n",
    "    \n",
    "    students = []\n",
    "    for index, row in df.iterrows():\n",
    "        student = Student(name = row['Name'] , entry_number = row['Entry Number'], vertical = row['Vertical'] , IF = row['IF'], link = row['Link'])\n",
    "        if subtribeName in row['Vertical'] and (not student._entry_number_ in ocNames):\n",
    "            students.append(student)\n",
    "    \n",
    "    for i in range(len(students)):\n",
    "        if students[i]._entry_number_ in acNames:\n",
    "            students[0], students[i] = students[i], students[0]\n",
    "            break\n",
    "        \n",
    "    for student in students:\n",
    "        file.write(student.latex_row(1))\n",
    "\n",
    "    file.write(\"\"\"\\\\hline\n",
    "\t\t    \\\\caption{\"\"\" + subtribeName+\"\"\"}\n",
    "\t    \\\\end{longtable}\n",
    "    \\\\end{center}\"\"\")\n"
   ]
  },
  {
   "cell_type": "code",
   "execution_count": 39,
   "metadata": {},
   "outputs": [],
   "source": [
    "def makeTable3(subtribeName, label, keyy):\n",
    "    students = []\n",
    "    for index, row in df.iterrows():\n",
    "        student = Student(name = row['Name'] , entry_number = row['Entry Number'], vertical = row['Vertical'] , IF = row['IF'], link = row['Link'])\n",
    "        if student._IF_ < 1 and  subtribeName in row['Vertical'] and (not student._entry_number_ in ocNames):\n",
    "            students.append(student)\n",
    "    \n",
    "    \n",
    "    # print(keyy)\n",
    "\n",
    "\n",
    "    if len(students) == 0:\n",
    "        return\n",
    "    \n",
    "    file.write(\"\"\"\n",
    "    \\subsection{\"\"\" + subtribeName + \"\"\"}\n",
    "    \\\\begin{center}\n",
    "    \\\\label{\"\"\"+label+\"\"\"2}\n",
    "    \\\\begin{longtable}{| n | e | E | c| }\n",
    "        \\\\hline\n",
    "        \\\\textbf{Name}                                                                                                      & \\\\textbf{Entry Number} & \\\\textbf{Email ID}                                                    & \\\\textbf{IF} \\\\\\\\\n",
    "        \\\\hline \\\\hline\"\"\")\n",
    "    \n",
    "    \n",
    "    for student in students:\n",
    "        file.write(student.latex_row(0))\n",
    "\n",
    "    file.write(\"\"\"\\\\hline\n",
    "\t\t    \\\\caption{IF less than 1 (\"\"\" + subtribeName+\"\"\")}\n",
    "\t    \\\\end{longtable}\n",
    "    \\\\end{center}\"\"\")\n"
   ]
  },
  {
   "cell_type": "code",
   "execution_count": 40,
   "metadata": {},
   "outputs": [
    {
     "name": "stdout",
     "output_type": "stream",
     "text": [
      "0\n",
      "1\n",
      "1\n"
     ]
    }
   ],
   "source": [
    "makeTable1()\n",
    "for subtribe in subtribeNames:\n",
    "    makeTable2(subtribe, subtribe[0:4])\n",
    "\n",
    "lowIF_head = 0\n",
    "file.write(\"\\n\\section{Tribe Members with IF less than 1}\")\n",
    "for subtribe in subtribeNames:\n",
    "    print(lowIF_head)\n",
    "    makeTable3(subtribe, subtribe[0:4], lowIF_head)\n",
    "    \n",
    "    if lowIF_head == 0:\n",
    "        lowIF_head = 1"
   ]
  },
  {
   "cell_type": "code",
   "execution_count": null,
   "metadata": {},
   "outputs": [],
   "source": []
  },
  {
   "cell_type": "code",
   "execution_count": null,
   "metadata": {},
   "outputs": [],
   "source": []
  }
 ],
 "metadata": {
  "kernelspec": {
   "display_name": "Python 3",
   "language": "python",
   "name": "python3"
  },
  "language_info": {
   "codemirror_mode": {
    "name": "ipython",
    "version": 3
   },
   "file_extension": ".py",
   "mimetype": "text/x-python",
   "name": "python",
   "nbconvert_exporter": "python",
   "pygments_lexer": "ipython3",
   "version": "3.11.4"
  }
 },
 "nbformat": 4,
 "nbformat_minor": 2
}

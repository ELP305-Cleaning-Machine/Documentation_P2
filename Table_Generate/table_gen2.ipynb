{
 "cells": [
  {
   "cell_type": "code",
   "execution_count": 3,
   "metadata": {},
   "outputs": [],
   "source": [
    "import pandas as pd\n",
    "import sys\n",
    "from operator import attrgetter\n"
   ]
  },
  {
   "cell_type": "code",
   "execution_count": 4,
   "metadata": {},
   "outputs": [],
   "source": [
    "dict_team = {'Documentation': 'Documentation',\n",
    "             'Research': 'Research'}\n",
    "dict_master = dict()\n",
    "\n",
    "\n",
    "\n",
    "if __name__ == '__main__':\n",
    "    df = pd.read_excel('./members_IF.xlsx')\n",
    "    students = []\n",
    "    for index, row in df.iterrows():\n",
    "        entry_number = row['Entry Number']\n",
    "        vertical = row['Vertical']\n",
    "        entry_number = entry_number.split()[0]\n",
    "        dict_master[entry_number] = dict_team[vertical]\n"
   ]
  },
  {
   "cell_type": "code",
   "execution_count": 5,
   "metadata": {},
   "outputs": [
    {
     "name": "stdout",
     "output_type": "stream",
     "text": [
      "{'2021EE10978': 'Research', '2021EE10633': 'Research', '2021MT10637': 'Research', '2021MT10910': 'Research', '2021EE10676': 'Research', '2021MT10256': 'Research', '2021EE10729': 'Research', '2021EE10783': 'Research', '2021EE10699': 'Research', '2021EE10974': 'Research', '2021MT10235': 'Research', '2021EE30977': 'Research', '2021EE11052': 'Research', '2021EE30705': 'Research', '2021MT10257': 'Research', '2021EE10689': 'Research', '2021EE10665': 'Research', '2021MT10238': 'Research', '2021MT60959': 'Research', '2021EE10653': 'Research', '2021MT10919': 'Research', '2021MT10901': 'Research', '2021MT61051': 'Research', '2021EE10654': 'Research', '2021EE10621': 'Research', '2021EE10145': 'Research', '2021EE10673': 'Research', '2021EE10645': 'Research', '2021EE10809': 'Research', '2021EE10669': 'Research', '2021EE10668': 'Research', '2021EE10984': 'Research', '2021EE10168': 'Research', '2021EE10685': 'Research', '2021EE30714': 'Research', '2021EE10137': 'Research', '2021EE10150': 'Research', '2021EE10147': 'Research', '2021EE10166': 'Research', '2021EE10696': 'Research', '2021EE10647': 'Research', '2021EE10651': 'Research', '2021EE10692': 'Research', '2021EE30823': 'Research', '2021EE30177': 'Research', '2021EE10159': 'Research', '2021EE10680': 'Research', '2021EE30710': 'Research', '2021EE10652': 'Research', '2021EE10720': 'Research', '2021EE10156': 'Research', '2021EE10174': 'Research', '2021EE10165': 'Research', '2021EE10132': 'Research', '2021EE10149': 'Research', '2021EE10169': 'Research', '2021EE10171': 'Research', '2021EE10638': 'Research', '2021EE10636': 'Research', '2021MT10254': 'Documentation', '2021MT10887': 'Documentation', '2021MT10697': 'Documentation', '2021MT10227': 'Documentation', '2021MT10240': 'Documentation', '2021MT10938': 'Documentation', '2020MT10826': 'Documentation', '2020EE10531': 'Documentation', '2020MT60877': 'Documentation', '2021MT60265': 'Documentation', '2021EE10148': 'Documentation', '2021MT10935': 'Documentation', '2021MT10236': 'Documentation', '2021EE10620': 'Research'}\n"
     ]
    }
   ],
   "source": [
    "print(dict_master)"
   ]
  },
  {
   "cell_type": "code",
   "execution_count": 6,
   "metadata": {},
   "outputs": [],
   "source": [
    "#!/usr/bin/env python3\n",
    "\n",
    "\n",
    "class Student:\n",
    "    def __init__(self, name, entry_number, hours , skill):\n",
    "        self._name_ = self.capitalize_name(name)\n",
    "        entry_number = entry_number.split()[0]\n",
    "        self._entry_number_ = entry_number.upper()\n",
    "        self._hours_ = hours\n",
    "        self._skill_ = skill\n",
    "        self._team_ = dict_master[self._entry_number_]\n",
    "\n",
    "    def capitalize_name(self , full_name):\n",
    "        words = full_name.split()\n",
    "        capitalized_words = [word.capitalize() for word in words]\n",
    "        capitalized_name = ' '.join(capitalized_words)\n",
    "        return capitalized_name\n",
    "\n",
    "\n",
    "    def latex_row(self):\n",
    "        return f'{self._name_} & {self._entry_number_} & {self._team_} & {self._hours_}\\\\\\\\ \\n\\hline \\n'\n",
    "\n",
    "team_names = ['documentation', 'research', 'survey', 'edesign', 'mdesign', 'fabrication']\n",
    "sheet_names = ['Documentation', 'Research', 'Survey', 'Electronic', 'Mechanical', 'Fabrication']\n",
    "\n",
    "if __name__ == '__main__':\n",
    "    df = pd.read_excel('./manpower.xlsx')\n",
    "    students = []\n",
    "    for index, row in df.iterrows():\n",
    "        student = Student(name = row['name'] , entry_number = row['entry'], hours = row['hours'], skill = row['skill'])\n",
    "        students.append(student)\n",
    "    \n",
    "    students.sort(key=attrgetter('_team_'))\n",
    "\n",
    "    with open('./manpowerTable.txt', 'w') as file:\n",
    "        for student in students:\n",
    "            file.write(student.latex_row())\n"
   ]
  },
  {
   "cell_type": "code",
   "execution_count": 7,
   "metadata": {},
   "outputs": [],
   "source": [
    "#!/usr/bin/env python3\n",
    "\n",
    "\n",
    "class Student:\n",
    "    def __init__(self, name, entry_number, hours , skill):\n",
    "        # print(entry_number)\n",
    "        self._name_ = self.capitalize_name(name)\n",
    "        entry_number = entry_number.split()[0]\n",
    "        self._entry_number_ = entry_number.upper()\n",
    "        self._hours_ = hours\n",
    "        self._skill_ = skill\n",
    "        self._team_ = dict_master[self._entry_number_]\n",
    "\n",
    "    def capitalize_name(self , full_name):\n",
    "        words = full_name.split()\n",
    "        capitalized_words = [word.capitalize() for word in words]\n",
    "        capitalized_name = ' '.join(capitalized_words)\n",
    "        return capitalized_name\n",
    "\n",
    "    def latex_row2(self):\n",
    "        return f'{self._name_} & {self._team_} & {self._skill_}\\\\\\\\ \\n\\hline \\n'\n",
    "    def latex_row1(self):\n",
    "        return f'{self._name_} & {self._entry_number_} & {self._team_} & {self._hours_}\\\\\\\\ \\n\\hline \\n'\n",
    "    \n",
    "\n",
    "if __name__ == '__main__':\n",
    "    df = pd.read_excel('./manpower.xlsx')\n",
    "    students = []\n",
    "    for index, row in df.iterrows():\n",
    "        student = Student(name = row['name'] , entry_number = row['entry'], hours = row['hours'], skill = row['skill'])\n",
    "        students.append(student)\n",
    "\n",
    "    students.sort(key=attrgetter('_team_'))\n",
    "        \n",
    "    with open('skillTable.txt', 'w') as file:\n",
    "        for student in students:\n",
    "            file.write(student.latex_row2())\n",
    "    \n",
    "    with open('hoursTable.txt', 'w') as file:\n",
    "        for student in students:\n",
    "            file.write(student.latex_row1())\n",
    "\n"
   ]
  },
  {
   "cell_type": "code",
   "execution_count": null,
   "metadata": {},
   "outputs": [],
   "source": []
  },
  {
   "cell_type": "code",
   "execution_count": null,
   "metadata": {},
   "outputs": [],
   "source": []
  }
 ],
 "metadata": {
  "kernelspec": {
   "display_name": "Python 3",
   "language": "python",
   "name": "python3"
  },
  "language_info": {
   "codemirror_mode": {
    "name": "ipython",
    "version": 3
   },
   "file_extension": ".py",
   "mimetype": "text/x-python",
   "name": "python",
   "nbconvert_exporter": "python",
   "pygments_lexer": "ipython3",
   "version": "3.11.4"
  }
 },
 "nbformat": 4,
 "nbformat_minor": 2
}

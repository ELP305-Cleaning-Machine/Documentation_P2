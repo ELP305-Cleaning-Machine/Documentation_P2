{
 "cells": [
  {
   "cell_type": "code",
   "execution_count": 32,
   "metadata": {},
   "outputs": [],
   "source": [
    "import pandas as pd\n",
    "import sys\n",
    "from operator import attrgetter\n"
   ]
  },
  {
   "cell_type": "code",
   "execution_count": 33,
   "metadata": {},
   "outputs": [],
   "source": [
    "dict_team = {'Survey and Business Development(Data collection about the requirements)': 'Survey',\n",
    "                 'Research(About the theoretical aspects)': 'Research',\n",
    "                 'Mechanical Design(Working on Design of the product)': 'Mechanical Design',\n",
    "                 'Fabrication and Testing(Working on Design and Materials of the housing of the product)': 'Fabrication',\n",
    "                 'Electronic Design and Simulation': 'Electronic Design',\n",
    "                 'Documentation(Logging multiple aspects of the process)': 'Documentation'}\n",
    "dict_master = dict()\n",
    "\n",
    "\n",
    "\n",
    "if __name__ == '__main__':\n",
    "    df = pd.read_excel('./members_IF.xlsx')\n",
    "    students = []\n",
    "    for index, row in df.iterrows():\n",
    "        entry_number = row['Entry Number']\n",
    "        vertical = row['Vertical']\n",
    "        entry_number = entry_number.split()[0]\n",
    "        dict_master[entry_number] = dict_team[vertical]\n"
   ]
  },
  {
   "cell_type": "code",
   "execution_count": 34,
   "metadata": {},
   "outputs": [
    {
     "name": "stdout",
     "output_type": "stream",
     "text": [
      "{'2021MT10637': 'Survey', '2021MT10235': 'Survey', '2021EE30177': 'Survey', '2021MT10887': 'Documentation', '2021EE10647': 'Survey', '2021EE10668': 'Survey', '2021MT10257': 'Survey', '2021EE10145': 'Survey', '2021EE10729': 'Survey', '2021EE10652': 'Survey', '2021MT10703': 'Survey', '2021MT10910': 'Survey', '2021MT10919': 'Research', '2021EE11052': 'Research', '2021EE30710': 'Research', '2021EE30723': 'Research', '2021MT10256': 'Research', '2021MT10238': 'Research', '2021MT10236': 'Research', '2021EE10685': 'Research', '2021EE10147': 'Research', '2021EE10653': 'Research', '2021MT60959': 'Research', '2021EE10669': 'Research', '2021EE10676': 'Research', '2021EE10673': 'Research', '2021EE10689': 'Research', '2021EE10621': 'Research', '2021EE10645': 'Research', '2021EE10132': 'Research', '2021EE10174': 'Mechanical Design', '2021EE10165': 'Mechanical Design', '2021EE10169': 'Mechanical Design', '2021EE10171': 'Mechanical Design', '2021EE10978': 'Mechanical Design', '2021EE10665': 'Mechanical Design', '2021EE10974': 'Mechanical Design', '2021EE10984': 'Mechanical Design', '2021MT10901': 'Mechanical Design', '2021EE10166': 'Mechanical Design', '2021EE30705': 'Mechanical Design', '2021EE10699': 'Mechanical Design', '2021EE10633': 'Mechanical Design', '2021EE10692': 'Fabrication', '2021EE10168': 'Fabrication', '2021MT61051': 'Fabrication', '2021EE10654': 'Fabrication', '2021EE10696': 'Fabrication', '2021EE10638': 'Fabrication', '2021EE30714': 'Fabrication', '2021EE10156': 'Electronic Design', '2021EE30977': 'Electronic Design', '2021EE10720': 'Electronic Design', '2021EE10809': 'Electronic Design', '2021EE10680': 'Electronic Design', '2021EE10137': 'Electronic Design', '2021EE10150': 'Electronic Design', '2021EE10159': 'Electronic Design', '2021EE10149': 'Electronic Design', '2021MT10697': 'Documentation', '2021MT10240': 'Documentation', '2021EE10636': 'Documentation', '2021MT10254': 'Documentation', '2021MT10935': 'Documentation', '2021MT10143': 'Documentation', '2021EE10148': 'Documentation', '2021EE10620': 'Documentation', '2021EE10651': 'Documentation', '2021MT10938': 'Documentation', '2021MT10227': 'Documentation', '2020EE10531': 'Documentation', '2020MT10826': 'Documentation', '2020MT60877': 'Documentation'}\n"
     ]
    }
   ],
   "source": [
    "print(dict_master)"
   ]
  },
  {
   "cell_type": "code",
   "execution_count": 35,
   "metadata": {},
   "outputs": [
    {
     "name": "stdout",
     "output_type": "stream",
     "text": [
      "Mechanical Design\n"
     ]
    }
   ],
   "source": [
    "print(dict_master['2021EE10978'])"
   ]
  },
  {
   "cell_type": "code",
   "execution_count": 36,
   "metadata": {},
   "outputs": [],
   "source": [
    "#!/usr/bin/env python3\n",
    "\n",
    "\n",
    "class Student:\n",
    "    def __init__(self, name, entry_number, hours , skill):\n",
    "        self._name_ = self.capitalize_name(name)\n",
    "        entry_number = entry_number.split()[0]\n",
    "        self._entry_number_ = entry_number.upper()\n",
    "        self._hours_ = hours\n",
    "        self._skill_ = skill\n",
    "        self._team_ = dict_master[self._entry_number_]\n",
    "\n",
    "    def capitalize_name(self , full_name):\n",
    "        words = full_name.split()\n",
    "        capitalized_words = [word.capitalize() for word in words]\n",
    "        capitalized_name = ' '.join(capitalized_words)\n",
    "        return capitalized_name\n",
    "\n",
    "\n",
    "    def latex_row(self):\n",
    "        return f'{self._name_} & {self._entry_number_} & {self._team_} & {self._hours_}\\\\\\\\ \\n\\hline \\n'\n",
    "\n",
    "team_names = ['documentation', 'research', 'survey', 'edesign', 'mdesign', 'fabrication']\n",
    "sheet_names = ['Documentation', 'Research', 'Survey', 'Electronic', 'Mechanical', 'Fabrication']\n",
    "\n",
    "if __name__ == '__main__':\n",
    "    df = pd.read_excel('./manpower.xlsx')\n",
    "    students = []\n",
    "    for index, row in df.iterrows():\n",
    "        student = Student(name = row['name'] , entry_number = row['entry'], hours = row['hours'], skill = row['skill'])\n",
    "        students.append(student)\n",
    "    \n",
    "    students.sort(key=attrgetter('_team_'))\n",
    "\n",
    "    with open('./manpowerTable.txt', 'w') as file:\n",
    "        for student in students:\n",
    "            file.write(student.latex_row())\n"
   ]
  },
  {
   "cell_type": "code",
   "execution_count": 37,
   "metadata": {},
   "outputs": [],
   "source": [
    "#!/usr/bin/env python3\n",
    "\n",
    "\n",
    "class Student:\n",
    "    def __init__(self, name, entry_number, hours , skill):\n",
    "        # print(entry_number)\n",
    "        self._name_ = self.capitalize_name(name)\n",
    "        entry_number = entry_number.split()[0]\n",
    "        self._entry_number_ = entry_number.upper()\n",
    "        self._hours_ = hours\n",
    "        self._skill_ = skill\n",
    "        self._team_ = dict_master[self._entry_number_]\n",
    "\n",
    "    def capitalize_name(self , full_name):\n",
    "        words = full_name.split()\n",
    "        capitalized_words = [word.capitalize() for word in words]\n",
    "        capitalized_name = ' '.join(capitalized_words)\n",
    "        return capitalized_name\n",
    "\n",
    "    def latex_row(self):\n",
    "        return f'{self._name_} & {self._team_} & {self._skill_}\\\\\\\\ \\n\\hline \\n'\n",
    "\n",
    "team_names = ['documentation', 'research', 'survey', 'edesign', 'mdesign', 'fabrication']\n",
    "sheet_names = ['Documentation', 'Research', 'Survey', 'Electronic', 'Mechanical', 'Fabrication']\n",
    "if __name__ == '__main__':\n",
    "    df = pd.read_excel('./manpower.xlsx')\n",
    "    students = []\n",
    "    for index, row in df.iterrows():\n",
    "        student = Student(name = row['name'] , entry_number = row['entry'], hours = row['hours'], skill = row['skill'])\n",
    "        students.append(student)\n",
    "\n",
    "    students.sort(key=attrgetter('_team_'))\n",
    "        \n",
    "    with open('skillTable.txt', 'w') as file:\n",
    "        for student in students:\n",
    "            file.write(student.latex_row())\n"
   ]
  },
  {
   "cell_type": "code",
   "execution_count": null,
   "metadata": {},
   "outputs": [],
   "source": []
  },
  {
   "cell_type": "code",
   "execution_count": null,
   "metadata": {},
   "outputs": [],
   "source": []
  }
 ],
 "metadata": {
  "kernelspec": {
   "display_name": "Python 3",
   "language": "python",
   "name": "python3"
  },
  "language_info": {
   "codemirror_mode": {
    "name": "ipython",
    "version": 3
   },
   "file_extension": ".py",
   "mimetype": "text/x-python",
   "name": "python",
   "nbconvert_exporter": "python",
   "pygments_lexer": "ipython3",
   "version": "3.11.4"
  }
 },
 "nbformat": 4,
 "nbformat_minor": 2
}
